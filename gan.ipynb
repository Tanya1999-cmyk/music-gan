{
  "nbformat": 4,
  "nbformat_minor": 0,
  "metadata": {
    "colab": {
      "name": "gan.ipynb",
      "version": "0.3.2",
      "provenance": [],
      "collapsed_sections": []
    },
    "kernelspec": {
      "name": "python3",
      "display_name": "Python 3"
    }
  },
  "cells": [
    {
      "metadata": {
        "id": "UbRGJ84wgTDb",
        "colab_type": "code",
        "outputId": "bd18a9a1-ab01-4a83-f820-8840558a9378",
        "colab": {
          "base_uri": "https://localhost:8080/",
          "height": 51
        }
      },
      "cell_type": "code",
      "source": [
        "%load_ext autoreload\n",
        "%matplotlib inline\n",
        "%autoreload 2\n",
        "\n",
        "\n",
        "\n",
        "from IPython import display\n",
        "\n",
        "\n",
        "from torch.utils.data import DataLoader\n",
        "import torchvision\n",
        "import torch\n",
        "from torchvision import transforms, datasets\n",
        "\n",
        "import tensorflow as tf\n",
        "import logging\n",
        "from tensorflow import layers\n",
        "\n",
        "import numpy as np\n",
        "\n",
        "import os\n",
        "import zipfile\n",
        "\n"
      ],
      "execution_count": 0,
      "outputs": [
        {
          "output_type": "stream",
          "text": [
            "The autoreload extension is already loaded. To reload it, use:\n",
            "  %reload_ext autoreload\n"
          ],
          "name": "stdout"
        }
      ]
    },
    {
      "metadata": {
        "id": "AsBQ-zGtKUeN",
        "colab_type": "code",
        "outputId": "96876028-4d0f-4a47-8ba2-0282100678b4",
        "colab": {
          "base_uri": "https://localhost:8080/",
          "height": 63
        }
      },
      "cell_type": "code",
      "source": [
        "#!unzip blues.zip \n",
        "# !unzip 'content/blues.zip'\n",
        "\n",
        "# !mkdir hello\n",
        "\n",
        "!pwd\n",
        "\n"
      ],
      "execution_count": 0,
      "outputs": [
        {
          "output_type": "stream",
          "text": [
            "/content\n"
          ],
          "name": "stdout"
        }
      ]
    },
    {
      "metadata": {
        "id": "-DGjaI_7j-By",
        "colab_type": "code",
        "outputId": "b604c439-4de1-41ad-e83c-e48a3cb7e2cb",
        "colab": {
          "base_uri": "https://localhost:8080/",
          "height": 1870
        }
      },
      "cell_type": "code",
      "source": [
        "#!ls\n",
        "# !mkdir 'Data_blues'\n",
        "# %cd 'Data_blues'\n",
        "# !unzip blues.zip\n",
        "# !mv '/content/blues.zip' '/content/main_data/images'\n"
      ],
      "execution_count": 0,
      "outputs": [
        {
          "output_type": "stream",
          "text": [
            "Archive:  blues.zip\n",
            "   creating: blues/\n",
            "  inflating: blues/blues6.png        \n",
            "  inflating: blues/blues22.png       \n",
            "  inflating: blues/blues36.png       \n",
            "  inflating: blues/blues37.png       \n",
            "  inflating: blues/blues23.png       \n",
            "  inflating: blues/blues7.png        \n",
            "  inflating: blues/blues5.png        \n",
            "  inflating: blues/blues35.png       \n",
            "  inflating: blues/blues21.png       \n",
            "  inflating: blues/blues20.png       \n",
            "  inflating: blues/blues34.png       \n",
            "  inflating: blues/blues4.png        \n",
            "  inflating: blues/blues0.png        \n",
            "   creating: __MACOSX/\n",
            "   creating: __MACOSX/blues/\n",
            "  inflating: __MACOSX/blues/._blues0.png  \n",
            "  inflating: blues/blues30.png       \n",
            "  inflating: blues/.DS_Store         \n",
            "  inflating: __MACOSX/blues/._.DS_Store  \n",
            "  inflating: blues/blues24.png       \n",
            "  inflating: blues/blues18.png       \n",
            "  inflating: blues/blues19.png       \n",
            "  inflating: blues/blues25.png       \n",
            "  inflating: blues/blues31.png       \n",
            "  inflating: blues/blues1.png        \n",
            "  inflating: __MACOSX/blues/._blues1.png  \n",
            "  inflating: blues/blues3.png        \n",
            "  inflating: blues/blues27.png       \n",
            "  inflating: blues/blues33.png       \n",
            "  inflating: blues/blues32.png       \n",
            "  inflating: blues/blues26.png       \n",
            "  inflating: blues/blues2.png        \n",
            "  inflating: __MACOSX/blues/._blues2.png  \n",
            "  inflating: blues/blues69.png       \n",
            "  inflating: blues/blues41.png       \n",
            "  inflating: blues/blues55.png       \n",
            "  inflating: blues/blues82.png       \n",
            "  inflating: blues/blues96.png       \n",
            "  inflating: blues/blues97.png       \n",
            "  inflating: blues/blues83.png       \n",
            "  inflating: blues/blues54.png       \n",
            "  inflating: blues/blues40.png       \n",
            "  inflating: blues/blues68.png       \n",
            "  inflating: blues/blues56.png       \n",
            "  inflating: blues/blues42.png       \n",
            "  inflating: blues/blues95.png       \n",
            "  inflating: blues/blues81.png       \n",
            "  inflating: blues/blues80.png       \n",
            "  inflating: blues/blues94.png       \n",
            "  inflating: blues/blues43.png       \n",
            "  inflating: blues/blues57.png       \n",
            "  inflating: blues/blues53.png       \n",
            "  inflating: blues/blues47.png       \n",
            "  inflating: blues/blues90.png       \n",
            "  inflating: blues/blues84.png       \n",
            "  inflating: blues/blues85.png       \n",
            "  inflating: blues/blues91.png       \n",
            "  inflating: blues/blues46.png       \n",
            "  inflating: blues/blues52.png       \n",
            "  inflating: blues/blues44.png       \n",
            "  inflating: blues/blues50.png       \n",
            "  inflating: blues/blues78.png       \n",
            "  inflating: blues/blues87.png       \n",
            "  inflating: blues/blues93.png       \n",
            "  inflating: blues/blues92.png       \n",
            "  inflating: blues/blues86.png       \n",
            "  inflating: blues/blues79.png       \n",
            "  inflating: blues/blues51.png       \n",
            "  inflating: blues/blues45.png       \n",
            "  inflating: blues/blues48.png       \n",
            "  inflating: blues/blues60.png       \n",
            "  inflating: blues/blues74.png       \n",
            "  inflating: blues/blues75.png       \n",
            "  inflating: blues/blues61.png       \n",
            "  inflating: blues/blues49.png       \n",
            "  inflating: blues/blues77.png       \n",
            "  inflating: blues/blues63.png       \n",
            "  inflating: blues/blues88.png       \n",
            "  inflating: blues/blues89.png       \n",
            "  inflating: blues/blues62.png       \n",
            "  inflating: blues/blues76.png       \n",
            "  inflating: blues/blues72.png       \n",
            "  inflating: blues/blues66.png       \n",
            "  inflating: blues/blues99.png       \n",
            "  inflating: blues/blues98.png       \n",
            "  inflating: blues/blues67.png       \n",
            "  inflating: blues/blues73.png       \n",
            "  inflating: blues/blues65.png       \n",
            "  inflating: blues/blues71.png       \n",
            "  inflating: blues/blues59.png       \n",
            "  inflating: blues/blues58.png       \n",
            "  inflating: blues/blues70.png       \n",
            "  inflating: blues/blues64.png       \n",
            "  inflating: blues/blues17.png       \n",
            "  inflating: blues/blues16.png       \n",
            "  inflating: blues/blues28.png       \n",
            "  inflating: blues/blues14.png       \n",
            "  inflating: blues/blues15.png       \n",
            "  inflating: blues/blues29.png       \n",
            "  inflating: blues/blues9.png        \n",
            "  inflating: blues/blues11.png       \n",
            "  inflating: blues/blues39.png       \n",
            "  inflating: blues/blues38.png       \n",
            "  inflating: blues/blues10.png       \n",
            "  inflating: blues/blues8.png        \n",
            "  inflating: blues/blues12.png       \n",
            "  inflating: blues/blues13.png       \n"
          ],
          "name": "stdout"
        }
      ]
    },
    {
      "metadata": {
        "id": "TL4Iu3O6gtHV",
        "colab_type": "code",
        "outputId": "21e1d956-9b56-422b-c252-9cd5e4889eef",
        "colab": {
          "base_uri": "https://localhost:8080/",
          "height": 1921
        }
      },
      "cell_type": "code",
      "source": [
        "# !rm blues.zip\n",
        "# %cd blues\n",
        "# !mkdir images\n",
        "# %cd images\n",
        "# !mv '/images' './content/Data_blues/blues'\n",
        "# !unzip blues.zip\n",
        "# %cd images\n",
        "# %cd images\n",
        "# !mv 'content/blues.zip'  'content/Data_blues/blues/images'\n",
        "\n",
        "\n"
      ],
      "execution_count": 0,
      "outputs": [
        {
          "output_type": "stream",
          "text": [
            "Archive:  blues.zip\n",
            "   creating: blues/\n",
            "  inflating: blues/.DS_Store         \n",
            "   creating: __MACOSX/\n",
            "   creating: __MACOSX/blues/\n",
            "  inflating: __MACOSX/blues/._.DS_Store  \n",
            "   creating: blues/data/\n",
            "  inflating: blues/data/blues6.png   \n",
            "  inflating: blues/data/blues22.png  \n",
            "  inflating: blues/data/blues36.png  \n",
            "  inflating: blues/data/blues37.png  \n",
            "  inflating: blues/data/blues23.png  \n",
            "  inflating: blues/data/blues7.png   \n",
            "  inflating: blues/data/blues5.png   \n",
            "  inflating: blues/data/blues35.png  \n",
            "  inflating: blues/data/blues21.png  \n",
            "  inflating: blues/data/blues20.png  \n",
            "  inflating: blues/data/blues34.png  \n",
            "  inflating: blues/data/blues4.png   \n",
            "  inflating: blues/data/blues0.png   \n",
            "   creating: __MACOSX/blues/data/\n",
            "  inflating: __MACOSX/blues/data/._blues0.png  \n",
            "  inflating: blues/data/blues30.png  \n",
            "  inflating: blues/data/blues24.png  \n",
            "  inflating: blues/data/blues18.png  \n",
            "  inflating: blues/data/blues19.png  \n",
            "  inflating: blues/data/blues25.png  \n",
            "  inflating: blues/data/blues31.png  \n",
            "  inflating: blues/data/blues1.png   \n",
            "  inflating: __MACOSX/blues/data/._blues1.png  \n",
            "  inflating: blues/data/blues3.png   \n",
            "  inflating: blues/data/blues27.png  \n",
            "  inflating: blues/data/blues33.png  \n",
            "  inflating: blues/data/blues32.png  \n",
            "  inflating: blues/data/blues26.png  \n",
            "  inflating: blues/data/blues2.png   \n",
            "  inflating: __MACOSX/blues/data/._blues2.png  \n",
            "  inflating: blues/data/blues69.png  \n",
            "  inflating: blues/data/blues41.png  \n",
            "  inflating: blues/data/blues55.png  \n",
            "  inflating: blues/data/blues82.png  \n",
            "  inflating: blues/data/blues96.png  \n",
            "  inflating: blues/data/blues97.png  \n",
            "  inflating: blues/data/blues83.png  \n",
            "  inflating: blues/data/blues54.png  \n",
            "  inflating: blues/data/blues40.png  \n",
            "  inflating: blues/data/blues68.png  \n",
            "  inflating: blues/data/blues56.png  \n",
            "  inflating: blues/data/blues42.png  \n",
            "  inflating: blues/data/blues95.png  \n",
            "  inflating: blues/data/blues81.png  \n",
            "  inflating: blues/data/blues80.png  \n",
            "  inflating: blues/data/blues94.png  \n",
            "  inflating: blues/data/blues43.png  \n",
            "  inflating: blues/data/blues57.png  \n",
            "  inflating: blues/data/blues53.png  \n",
            "  inflating: blues/data/blues47.png  \n",
            "  inflating: blues/data/blues90.png  \n",
            "  inflating: blues/data/blues84.png  \n",
            "  inflating: blues/data/blues85.png  \n",
            "  inflating: blues/data/blues91.png  \n",
            "  inflating: blues/data/blues46.png  \n",
            "  inflating: blues/data/blues52.png  \n",
            "  inflating: blues/data/blues44.png  \n",
            "  inflating: blues/data/blues50.png  \n",
            "  inflating: blues/data/blues78.png  \n",
            "  inflating: blues/data/blues87.png  \n",
            "  inflating: blues/data/blues93.png  \n",
            "  inflating: blues/data/blues92.png  \n",
            "  inflating: blues/data/blues86.png  \n",
            "  inflating: blues/data/blues79.png  \n",
            "  inflating: blues/data/blues51.png  \n",
            "  inflating: blues/data/blues45.png  \n",
            "  inflating: blues/data/blues48.png  \n",
            "  inflating: blues/data/blues60.png  \n",
            "  inflating: __MACOSX/blues/data/._blues60.png  \n",
            "  inflating: blues/data/blues74.png  \n",
            "  inflating: blues/data/blues75.png  \n",
            "  inflating: blues/data/blues61.png  \n",
            "  inflating: blues/data/blues49.png  \n",
            "  inflating: blues/data/blues77.png  \n",
            "  inflating: blues/data/blues63.png  \n",
            "  inflating: blues/data/blues88.png  \n",
            "  inflating: blues/data/blues89.png  \n",
            "  inflating: blues/data/blues62.png  \n",
            "  inflating: blues/data/blues76.png  \n",
            "  inflating: blues/data/blues72.png  \n",
            "  inflating: blues/data/blues66.png  \n",
            "  inflating: blues/data/blues99.png  \n",
            "  inflating: blues/data/blues98.png  \n",
            "  inflating: blues/data/blues67.png  \n",
            "  inflating: blues/data/blues73.png  \n",
            "  inflating: blues/data/blues65.png  \n",
            "  inflating: blues/data/blues71.png  \n",
            "  inflating: blues/data/blues59.png  \n",
            "  inflating: blues/data/blues58.png  \n",
            "  inflating: blues/data/blues70.png  \n",
            "  inflating: blues/data/blues64.png  \n",
            "  inflating: blues/data/blues17.png  \n",
            "  inflating: blues/data/blues16.png  \n",
            "  inflating: blues/data/blues28.png  \n",
            "  inflating: blues/data/blues14.png  \n",
            "  inflating: blues/data/blues15.png  \n",
            "  inflating: blues/data/blues29.png  \n",
            "  inflating: blues/data/blues9.png   \n",
            "  inflating: blues/data/blues11.png  \n",
            "  inflating: blues/data/blues39.png  \n",
            "  inflating: blues/data/blues38.png  \n",
            "  inflating: blues/data/blues10.png  \n",
            "  inflating: blues/data/blues8.png   \n",
            "  inflating: blues/data/blues12.png  \n",
            "  inflating: blues/data/blues13.png  \n"
          ],
          "name": "stdout"
        }
      ]
    },
    {
      "metadata": {
        "id": "Zm5KfeJSqM9m",
        "colab_type": "code",
        "colab": {}
      },
      "cell_type": "code",
      "source": [
        "Image_Pixels = 558 * 544\n",
        "batch_size = 100\n",
        "# Noise_Size = 100\n",
        "# DATA_FOLDER = '/blues'\n",
        "# hello = '{}'.format(DATA_FOLDER)\n",
        "# print (hello)\n",
        "\n",
        "\n"
      ],
      "execution_count": 0,
      "outputs": []
    },
    {
      "metadata": {
        "id": "uaRPDWRVibwW",
        "colab_type": "code",
        "colab": {}
      },
      "cell_type": "code",
      "source": [
        "def load_dataset():\n",
        "    data_path = 'blues'\n",
        "    train_dataset = torchvision.datasets.ImageFolder(\n",
        "        root=data_path,\n",
        "        transform=torchvision.transforms.ToTensor()\n",
        "    )\n",
        "    train_loader = torch.utils.data.DataLoader(\n",
        "        train_dataset,\n",
        "        batch_size=64,\n",
        "        num_workers=0,\n",
        "        shuffle=True\n",
        "    )\n",
        "    return train_loader\n"
      ],
      "execution_count": 0,
      "outputs": []
    },
    {
      "metadata": {
        "id": "RWhljMDsX4Ej",
        "colab_type": "code",
        "colab": {}
      },
      "cell_type": "code",
      "source": [
        "dataset = load_dataset()\n",
        "# dataloader = DataLoader(dataset, batch_size=batch_size, shuffle=True)\n",
        "num_batches = len(dataset)"
      ],
      "execution_count": 0,
      "outputs": []
    },
    {
      "metadata": {
        "id": "g7ud0LGVCIaP",
        "colab_type": "code",
        "colab": {}
      },
      "cell_type": "code",
      "source": [
        "IMAGES_SHAPE = (64, 64, 3)\n",
        "NOISE_SIZE = 100"
      ],
      "execution_count": 0,
      "outputs": []
    },
    {
      "metadata": {
        "id": "3xEzgkzoDOxC",
        "colab_type": "code",
        "colab": {}
      },
      "cell_type": "code",
      "source": [
        "\n",
        "def default_conv2d(inputs, filters):\n",
        "    return layers.conv2d(\n",
        "        inputs,\n",
        "        filters=filters,\n",
        "        kernel_size=4,\n",
        "        strides=(2, 2),\n",
        "        padding='same',\n",
        "        data_format='channels_last',\n",
        "        use_bias=False,\n",
        "    )\n",
        "\n",
        "def default_conv2d_transpose(inputs, filters):\n",
        "    return layers.conv2d_transpose(\n",
        "        inputs,\n",
        "        filters=filters,\n",
        "        kernel_size=4,\n",
        "        strides=(2, 2),\n",
        "        padding='same',\n",
        "        data_format='channels_last',\n",
        "        use_bias=False,\n",
        "    )\n",
        "\n",
        "def noise(n_rows, n_cols):\n",
        "    return np.random.normal(size=(n_rows, n_cols))"
      ],
      "execution_count": 0,
      "outputs": []
    },
    {
      "metadata": {
        "id": "Xb5CZHMlDU5E",
        "colab_type": "code",
        "colab": {}
      },
      "cell_type": "code",
      "source": [
        "def discriminator(x):\n",
        "    with tf.variable_scope(\"discriminator\", reuse=tf.AUTO_REUSE):\n",
        "        with tf.variable_scope(\"conv1\"):\n",
        "            conv1 = default_conv2d(x, 128)\n",
        "            conv1 = nn.leaky_relu(conv1,alpha=0.2)\n",
        "        \n",
        "        with tf.variable_scope(\"conv2\"):\n",
        "            conv2 = default_conv2d(conv1, 256)\n",
        "            conv2 = layers.batch_normalization(conv2)\n",
        "            conv2 = nn.leaky_relu(conv2,alpha=0.2)\n",
        "            \n",
        "        with tf.variable_scope(\"conv3\"):\n",
        "            conv3 = default_conv2d(conv2, 512)\n",
        "            conv3 = layers.batch_normalization(conv3)\n",
        "            conv3 = nn.leaky_relu(conv3,alpha=0.2)\n",
        "            \n",
        "        with tf.variable_scope(\"conv4\"):\n",
        "            conv4 = default_conv2d(conv3, 1024)\n",
        "            conv4 = layers.batch_normalization(conv3)\n",
        "            conv4 = nn.leaky_relu(conv3,alpha=0.2)\n",
        "        \n",
        "        with tf.variable_scope(\"linear\"):\n",
        "            linear = clayers.flatten(conv4)\n",
        "            linear = clayers.fully_connected(linear, 1)\n",
        "        \n",
        "        with tf.variable_scope(\"out\"):\n",
        "            out = nn.sigmoid(linear)\n",
        "    return out"
      ],
      "execution_count": 0,
      "outputs": []
    },
    {
      "metadata": {
        "id": "WvSKojH4DYXf",
        "colab_type": "code",
        "colab": {}
      },
      "cell_type": "code",
      "source": [
        "def generator(z):\n",
        "    with tf.variable_scope(\"generator\", reuse=tf.AUTO_REUSE):\n",
        "        \n",
        "        with tf.variable_scope(\"linear\"):\n",
        "            linear = layers.fully_connected(z, 1024 * 4 * 4)\n",
        "            \n",
        "        with tf.variable_scope(\"conv1_transp\"):\n",
        "            # Reshape as 4x4 images\n",
        "            conv1 = tf.reshape(linear, (-1, 4, 4, 1024))\n",
        "            conv1 = default_conv2d_transpose(conv1, 512)\n",
        "            conv1 = layers.batch_normalization(conv1)\n",
        "            conv1 = nn.relu(conv1)\n",
        "        \n",
        "        with tf.variable_scope(\"conv2_transp\"):\n",
        "            conv2 = default_conv2d_transpose(conv1, 256)\n",
        "            conv2 = layers.batch_normalization(conv2)\n",
        "            conv2 = nn.relu(conv2)\n",
        "            \n",
        "        with tf.variable_scope(\"conv3_transp\"):\n",
        "            conv3 = default_conv2d_transpose(conv2, 128)\n",
        "            conv3 = layers.batch_normalization(conv3)\n",
        "            conv3 = nn.relu(conv3)\n",
        "            \n",
        "        with tf.variable_scope(\"conv4_transp\"):\n",
        "            conv4 = default_conv2d_transpose(conv3, 3)\n",
        "        \n",
        "        with tf.variable_scope(\"out\"):\n",
        "            out = tf.tanh(conv4)\n",
        "    return out"
      ],
      "execution_count": 0,
      "outputs": []
    },
    {
      "metadata": {
        "id": "NSyM6UiYDcEq",
        "colab_type": "code",
        "colab": {}
      },
      "cell_type": "code",
      "source": [
        "## Real Input\n",
        "X = tf.placeholder(tf.float32, shape=(None, )+IMAGES_SHAPE)\n",
        "## Latent Variables / Noise\n",
        "Z = tf.placeholder(tf.float32, shape=(None, NOISE_SIZE))"
      ],
      "execution_count": 0,
      "outputs": []
    },
    {
      "metadata": {
        "id": "JnPPWlyKDcI6",
        "colab_type": "code",
        "outputId": "dbf641df-6d0d-4d3b-8cd4-e035b2bd565d",
        "colab": {
          "base_uri": "https://localhost:8080/",
          "height": 334
        }
      },
      "cell_type": "code",
      "source": [
        "# Generator\n",
        "G_sample = generator(Z)\n",
        "# Discriminator\n",
        "D_real = discriminator(X)\n",
        "D_fake = discriminator(G_sample)"
      ],
      "execution_count": 0,
      "outputs": [
        {
          "output_type": "error",
          "ename": "AttributeError",
          "evalue": "ignored",
          "traceback": [
            "\u001b[0;31m---------------------------------------------------------------------------\u001b[0m",
            "\u001b[0;31mAttributeError\u001b[0m                            Traceback (most recent call last)",
            "\u001b[0;32m<ipython-input-33-83cb7025c0c2>\u001b[0m in \u001b[0;36m<module>\u001b[0;34m()\u001b[0m\n\u001b[0;32m----> 1\u001b[0;31m \u001b[0mG_sample\u001b[0m \u001b[0;34m=\u001b[0m \u001b[0mgenerator\u001b[0m\u001b[0;34m(\u001b[0m\u001b[0mZ\u001b[0m\u001b[0;34m)\u001b[0m\u001b[0;34m\u001b[0m\u001b[0;34m\u001b[0m\u001b[0m\n\u001b[0m\u001b[1;32m      2\u001b[0m \u001b[0;31m# Discriminator\u001b[0m\u001b[0;34m\u001b[0m\u001b[0;34m\u001b[0m\u001b[0;34m\u001b[0m\u001b[0m\n\u001b[1;32m      3\u001b[0m \u001b[0mD_real\u001b[0m \u001b[0;34m=\u001b[0m \u001b[0mdiscriminator\u001b[0m\u001b[0;34m(\u001b[0m\u001b[0mX\u001b[0m\u001b[0;34m)\u001b[0m\u001b[0;34m\u001b[0m\u001b[0;34m\u001b[0m\u001b[0m\n\u001b[1;32m      4\u001b[0m \u001b[0mD_fake\u001b[0m \u001b[0;34m=\u001b[0m \u001b[0mdiscriminator\u001b[0m\u001b[0;34m(\u001b[0m\u001b[0mG_sample\u001b[0m\u001b[0;34m)\u001b[0m\u001b[0;34m\u001b[0m\u001b[0;34m\u001b[0m\u001b[0m\n",
            "\u001b[0;32m<ipython-input-30-d5324015fb5a>\u001b[0m in \u001b[0;36mgenerator\u001b[0;34m(z)\u001b[0m\n\u001b[1;32m      3\u001b[0m \u001b[0;34m\u001b[0m\u001b[0m\n\u001b[1;32m      4\u001b[0m         \u001b[0;32mwith\u001b[0m \u001b[0mtf\u001b[0m\u001b[0;34m.\u001b[0m\u001b[0mvariable_scope\u001b[0m\u001b[0;34m(\u001b[0m\u001b[0;34m\"linear\"\u001b[0m\u001b[0;34m)\u001b[0m\u001b[0;34m:\u001b[0m\u001b[0;34m\u001b[0m\u001b[0;34m\u001b[0m\u001b[0m\n\u001b[0;32m----> 5\u001b[0;31m             \u001b[0mlinear\u001b[0m \u001b[0;34m=\u001b[0m \u001b[0mlayers\u001b[0m\u001b[0;34m.\u001b[0m\u001b[0mfully_connected\u001b[0m\u001b[0;34m(\u001b[0m\u001b[0mz\u001b[0m\u001b[0;34m,\u001b[0m \u001b[0;36m1024\u001b[0m \u001b[0;34m*\u001b[0m \u001b[0;36m4\u001b[0m \u001b[0;34m*\u001b[0m \u001b[0;36m4\u001b[0m\u001b[0;34m)\u001b[0m\u001b[0;34m\u001b[0m\u001b[0;34m\u001b[0m\u001b[0m\n\u001b[0m\u001b[1;32m      6\u001b[0m \u001b[0;34m\u001b[0m\u001b[0m\n\u001b[1;32m      7\u001b[0m         \u001b[0;32mwith\u001b[0m \u001b[0mtf\u001b[0m\u001b[0;34m.\u001b[0m\u001b[0mvariable_scope\u001b[0m\u001b[0;34m(\u001b[0m\u001b[0;34m\"conv1_transp\"\u001b[0m\u001b[0;34m)\u001b[0m\u001b[0;34m:\u001b[0m\u001b[0;34m\u001b[0m\u001b[0;34m\u001b[0m\u001b[0m\n",
            "\u001b[0;31mAttributeError\u001b[0m: module 'tensorflow._api.v1.layers' has no attribute 'fully_connected'"
          ]
        }
      ]
    },
    {
      "metadata": {
        "id": "NXD2vs8RgliC",
        "colab_type": "code",
        "colab": {}
      },
      "cell_type": "code",
      "source": [
        ""
      ],
      "execution_count": 0,
      "outputs": []
    },
    {
      "metadata": {
        "id": "7YKvLtzSDcMC",
        "colab_type": "code",
        "colab": {}
      },
      "cell_type": "code",
      "source": [
        ""
      ],
      "execution_count": 0,
      "outputs": []
    }
  ]
}